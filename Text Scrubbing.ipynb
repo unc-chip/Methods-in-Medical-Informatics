{
 "cells": [
  {
   "cell_type": "markdown",
   "metadata": {},
   "source": [
    "<a href=\"https://wordpress-dept-chip.apps.cloudapps.unc.edu/methods-in-medical-informatics/\" ><h1>Back to Notebook List</h3></a>\n",
    "<br/>"
   ]
  },
  {
   "cell_type": "markdown",
   "metadata": {},
   "source": [
    "Welcome to chapter four of Methods in Medical Informatics! Healthcare data often contains private and sensitive information. An important part of guaranteeing data security is deidentifying data. Manual deidentification can be a laborious and slow process. This chapter will introduce a basic, computational text scrubber. Lets begin!\n",
    "\n",
    "> Disclaimer: The content below is adapted from the book \"Methods in Medical Informatics - Fundamental of Healthcare Programming in Perl, Python, and Ruby\" by Jules J. Berman. All content is for testing, education, and teaching purposes only. No content will be openly released to the internet. "
   ]
  },
  {
   "cell_type": "markdown",
   "metadata": {},
   "source": [
    "# 15.1 Text Scrubber for Deidentifying Confidential Text"
   ]
  },
  {
   "cell_type": "markdown",
   "metadata": {},
   "source": [
    "Throughout history, people have tried to remove confidential, private, offensive,\n",
    "and objectionable text from documents.\n",
    "Human censors do an adequate job when the data flow is small, but the amount of\n",
    "sensitive information created digitally is enormous. Large hospitals create\n",
    "terabytes of information every week, and a good portion of that information comes in\n",
    "the form of free text. Patient medical records are confidential. Those who want to use\n",
    "this information for research purposes have two options: (1) obtain informed consent\n",
    "from patients to use their records (an impossible task if you want to analyze data from\n",
    "thousands of human subjects), or (2) deidentify the records by removing any information\n",
    "that could link the contents of a medical record to an individual patient.\n",
    "In the past several decades, a variety of programs have been written that attempt to\n",
    "automatically remove confidential information from medical\n",
    "records. These programs are sometimes called “scrubbers”, and most of these programs\n",
    "use the following algorithm:\n",
    "1. Prepare lists of patient names, hospital staff names, addresses, obscenities,\n",
    "objectionable hospital slang, and hospital identifier numbers.\n",
    "2. Parse through the text, deleting or replacing entries from the list with noninformational\n",
    "characters.\n",
    "3. Match the text against a series of regex patterns that might indicate the presence\n",
    "of identifying information (e.g., formalisms such as Mr., Dr., Mrs. followed\n",
    "by another word, or numeric values, or date components), and remove\n",
    "these strings.\n",
    "These methods are the software equivalent of the human who reads through letters\n",
    "and documents and marks over the objectionable parts. Parsing scripts that pass documents\n",
    "through a long series of regex filters are always slow, and they never completely\n",
    "remove objectionable material. They merely reduce the occurrences of objectionable\n",
    "text, without eliminating the problem.\n",
    "\n",
    "There is a better way that is essentially the reverse of censorship. You create a list\n",
    "of acceptable phrases, and you parse through the text, deleting everything that is not\n",
    "included on your list. This method can parse text very quickly, because it has no regex\n",
    "filters. The method is potentially perfect, because the only text that appears in the final\n",
    "document is text composed of words and phrases that were preapproved.*\n",
    "\n",
    "> This script will utilize the file [doublets.txt](./K11946_Files/DOUBLETS.TXT). This is a text file containing many medical term doublets. Additional information [here](https://wordpress-dept-chip.apps.cloudapps.unc.edu/datafiles/)\n",
    "\n",
    "**Description adapted from pages 219-20 of \"Methods in Medical Informatics\"*"
   ]
  },
  {
   "cell_type": "code",
   "execution_count": 2,
   "metadata": {},
   "outputs": [
    {
     "name": "stdout",
     "output_type": "stream",
     "text": [
      "What would you like to scrub? doublets.txt\n",
      "* "
     ]
    }
   ],
   "source": [
    "#!/usr/bin/env python\n",
    "\n",
    "import sys, re, string\n",
    "\n",
    "doub_file = open(\"./K11946_Files/DOUBLETS.TXT\", \"r\")\n",
    "doub_hash = {}\n",
    "for line in doub_file:\n",
    "    line = line.rstrip()\n",
    "    doub_hash[line] = \" \"\n",
    "doub_file.close()\n",
    "\n",
    "line = input(\"What would you like to scrub? \")\n",
    "line = line.lower()\n",
    "line = line.rstrip()\n",
    "linearray = re.split(r' +', line)\n",
    "\n",
    "lastword = \"*\"\n",
    "for i in range(0, len(linearray)):\n",
    "    doublet = \" \".join(linearray[i:i+2])\n",
    "    if doublet in doub_hash:\n",
    "        print(\" \" + linearray[i], end=' ')\n",
    "        lastword = \" \" + linearray[i+1]\n",
    "    else:\n",
    "        print(lastword, end=' ')\n",
    "        lastword = \" *\"\n",
    "\n",
    "    if (i == len(linearray) +1):\n",
    "        print(lastword)\n",
    "        sys.exit()\n"
   ]
  },
  {
   "cell_type": "markdown",
   "metadata": {
    "heading_collapsed": true
   },
   "source": [
    "## Script Algorithm: Text Scrubber for Deidentifying Confidential Text"
   ]
  },
  {
   "cell_type": "markdown",
   "metadata": {
    "hidden": true
   },
   "source": [
    "In Chapter 9, Section 9.2, we created a list of word doublets from a PubMed\n",
    "corpus, consisting of titles of research papers written on the subject of cancer genes. For this chapter, we created a similar doublet list. Open the file.*"
   ]
  },
  {
   "cell_type": "code",
   "execution_count": 3,
   "metadata": {
    "hidden": true
   },
   "outputs": [],
   "source": [
    "import sys, re, string\n",
    "doub_file = open(\"./K11946_Files/DOUBLETS.TXT\", \"r\")"
   ]
  },
  {
   "cell_type": "markdown",
   "metadata": {
    "hidden": true
   },
   "source": [
    "Begin your script by prompting the user to enter a sentence. The user may feel\n",
    "free to enter a sentence that is offensive, incriminating, filled with the names\n",
    "of people, or with sensitive information. The entered text is parsed, word doublet by word doublet, with each doublet\n",
    "consisting of every word in the text followed by the next consecutive word."
   ]
  },
  {
   "cell_type": "code",
   "execution_count": 11,
   "metadata": {
    "hidden": true
   },
   "outputs": [
    {
     "name": "stdout",
     "output_type": "stream",
     "text": [
      "What would you like to scrub? Kevin Shang\n"
     ]
    }
   ],
   "source": [
    "doub_hash = {}\n",
    "for line in doub_file:\n",
    "    line = line.rstrip()\n",
    "    doub_hash[line] = \" \"\n",
    "doub_file.close()\n",
    "\n",
    "line = input(\"What would you like to scrub? \")\n",
    "line = line.lower()\n",
    "line = line.rstrip()\n",
    "linearray = re.split(r' +', line)\n",
    "\n",
    "lastword = \"*\""
   ]
  },
  {
   "cell_type": "markdown",
   "metadata": {
    "hidden": true
   },
   "source": [
    "Comparisons are made against the list of preapproved doublets (doublets.txt\n",
    "in this case). Word doublets in the text that match word doublets on the list are saved.\n",
    "Everything else is replaced by an asterisk."
   ]
  },
  {
   "cell_type": "code",
   "execution_count": 4,
   "metadata": {
    "hidden": true
   },
   "outputs": [
    {
     "name": "stdout",
     "output_type": "stream",
     "text": [
      " * "
     ]
    }
   ],
   "source": [
    "for i in range(0, len(linearray)):\n",
    "    doublet = \" \".join(linearray[i:i+2])\n",
    "    if doublet in doub_hash:\n",
    "        print(\" \" + linearray[i], end=' ')\n",
    "        lastword = \" \" + linearray[i+1]\n",
    "    else:\n",
    "        print(lastword, end=' ')\n",
    "        lastword = \" *\"\n",
    "\n",
    "    if (i == len(linearray) +1):\n",
    "        print(lastword)\n",
    "        sys.exit()"
   ]
  },
  {
   "cell_type": "markdown",
   "metadata": {
    "hidden": true
   },
   "source": [
    "**This section is adapted from section 15.1.1, \"Script Algorithm\", of page 220 from \"Methods in Medical Informatics\".*"
   ]
  },
  {
   "cell_type": "markdown",
   "metadata": {},
   "source": [
    "## Analysis: Text Scrubber for Deidentifying Confidential Text"
   ]
  },
  {
   "cell_type": "markdown",
   "metadata": {},
   "source": [
    "The doublet method script, with minor modifications, can scrub any length of any text. To illustrate, I downloaded a public domain book from Project Gutenberg. I used Anomalies and Curiosities of Medicine by George M. Gould and Walter Lytle Pyle. This book has lots of medical terminology and vaguely resembles the kind of text that might be included in a pathology report. Anyone can download the same text from\n",
    "http://www.gutenberg.org/etext/747\n",
    "An example of output paragraph is shown below. As expected with the doublet\n",
    "method, there are many blocked words. This is a limitation of the doublet method. If you use the standard list of doublets on any random book, you are bound to block some innocent doublets that were not included in the “approved” list. The only way around this limitation is to try to add safe doublets (from the text) to the approved\n",
    "list.\n",
    "<br>\n",
    "<br><p>\n",
    "In this important *, *, * * some historical *, describes a long series of experiments performed\n",
    "on * in order to * the passage of *, *, *, *, *, *, * * the placenta. The placenta shows a real affinity\n",
    "for * substances; in it * copper and mercury, but *, and it is therefore * it that the * * *;\n",
    "in addition to its *, intestinal, and *, * * glycogen and acts as an * *, and so resembles in its\n",
    "action the liver; * * of the fetus * only a potential *. * up of * in the placenta is not so general\n",
    "as * of them in the liver of the mother. It may be * the placenta does not form a barrier\n",
    "to the passage of * the circulation of the fetus; this would seem to * * *, which was always\n",
    "found in the * never in the fetal organs. In * * lead and * accumulation of the * in the fetal\n",
    "tissues is * in the maternal, perhaps from differences in * * or from greater diffusion. * it is * * barrier to the passage of *, * * * * degree of obstruction: it allows copper and * * *, * with\n",
    "greater difficulty. The * toxic substances in the fetus does not follow the same * * the adult.\n",
    "They * more widely in the fetus. In the * liver is the chief * *. *, which in * * to accumulate\n",
    "in the liver, is in the fetus * in the skin; copper accumulates in the fetal liver, * system, and\n",
    "sometimes in the skin; * which is * in the maternal liver, but also in the skin, has * in the\n",
    "skin, liver, * centers, and elsewhere * *. The frequent presence of * in the fetal * its physiologic\n",
    "importance. It has probably not * * influence on its *. On the * in the placenta and\n",
    "nerve * * * * abortion and the birth of dead *) Copper and lead did not cause *, * * so in two\n",
    "out of six *. Arsenic is a * agent in the *, * * * * *. An important * is that * * is frequently and\n",
    "seriously affected in syphilis, * * the special * for the accumulation of *. * * * * * action in\n",
    "this disease? The * of lead in the central nervous system of the * the frequency and serious\n",
    "character of * lesions. The presence of * in the * * * an explanation of the therapeutic results\n",
    "of * of this substance in skin *.</p>\n",
    "<br>\n",
    "<br><p>\n",
    "The strengths of the doublet method are accuracy and speed. The book was deidentified in seconds).</p>"
   ]
  },
  {
   "cell_type": "markdown",
   "metadata": {},
   "source": [
    "**This section is adapted from section 15.1.2, \"Analysis\", of pages 222-223 in \"Methods in Medical Informatics\".*"
   ]
  }
 ],
 "metadata": {
  "kernelspec": {
   "display_name": "Python 3 (ipykernel)",
   "language": "python",
   "name": "python3"
  },
  "language_info": {
   "codemirror_mode": {
    "name": "ipython",
    "version": 3
   },
   "file_extension": ".py",
   "mimetype": "text/x-python",
   "name": "python",
   "nbconvert_exporter": "python",
   "pygments_lexer": "ipython3",
   "version": "3.8.10"
  },
  "toc": {
   "base_numbering": 1,
   "nav_menu": {},
   "number_sections": true,
   "sideBar": true,
   "skip_h1_title": false,
   "title_cell": "Table of Contents",
   "title_sidebar": "Contents",
   "toc_cell": false,
   "toc_position": {},
   "toc_section_display": true,
   "toc_window_display": false
  }
 },
 "nbformat": 4,
 "nbformat_minor": 4
}
