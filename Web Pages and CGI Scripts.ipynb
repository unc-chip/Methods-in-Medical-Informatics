{
 "cells": [
  {
   "cell_type": "markdown",
   "metadata": {},
   "source": [
    "<a href=\"https://datamine.unc.edu/methods_in_medical_informatics_yuchenh/\" ><h1>Back to Notebook List</h3></a>\n",
    "<br/>"
   ]
  },
  {
   "cell_type": "markdown",
   "metadata": {},
   "source": [
    "Welcome to chapter sixteen of Methods in Medical Informatics! Today, a large portion of data and information is hosted online. This chapter will introduce two scripts demonstrating grabbing data from the web. Lets begin!\n",
    "\n",
    "> Disclaimer: The content below is adapted from the book \"Methods in Medical Informatics - Fundamental of Healthcare Programming in Perl, Python, and Ruby\" by Jules J. Berman. All content is for testing, education, and teaching purposes only. No content will be openly released to the internet. "
   ]
  },
  {
   "cell_type": "markdown",
   "metadata": {
    "heading_collapsed": true
   },
   "source": [
    "# Grabbing Web Pages"
   ]
  },
  {
   "cell_type": "markdown",
   "metadata": {
    "hidden": true
   },
   "source": [
    "Accessible Web pages are files (usually in HTML format) that reside on servers which\n",
    "accept HTTP requests from clients connected to the Internet. Browsers are software\n",
    "applications that send HTTP requests and display the received Web pages. Using\n",
    "Python you can automate HTTP requests. For each language, the\n",
    "easiest way to make an HTTP request is to use a module that comes bundled as a\n",
    "standard component of the language.*\n",
    "\n",
    "**Description adapted from pages 53-54 of \"Methods in Medical Informatics\"*"
   ]
  },
  {
   "cell_type": "markdown",
   "metadata": {},
   "source": [
    "### Successful Example: It will return the code of the webpage."
   ]
  },
  {
   "cell_type": "code",
   "execution_count": 11,
   "metadata": {
    "ExecuteTime": {
     "end_time": "2020-12-06T23:53:20.098197Z",
     "start_time": "2020-12-06T23:53:20.058635Z"
    },
    "hidden": true
   },
   "outputs": [
    {
     "name": "stdout",
     "output_type": "stream",
     "text": [
      "b'<html xmlns=\"http://www.w3.org/1999/xhtml\">\\r\\n<head>\\r\\n<script>document.title=\\'\\xc7\\xd8\\xbb\\xca\\xb5\\xba\\xd8\\xd8\\xd4\\xb5\\xc3\\xb3\\xd2\\xd7\\xd3\\xd0\\xcf\\xde\\xb9\\xab\\xcb\\xbe\\';</script>\\r\\n<meta http-equiv=\"Content-Type\" content=\"text/html; charset=gb2312\" />\\r\\n<script>\\r\\n(function(){\\r\\n    var bp = document.createElement(\\'script\\');\\r\\n    var curProtocol = window.location.protocol.split(\\':\\')[0];\\r\\n    if (curProtocol === \\'https\\') {\\r\\n        bp.src = \\'https://zz.bdstatic.com/linksubmit/push.js\\';\\r\\n    }\\r\\n    else {\\r\\n        bp.src = \\'http://push.zhanzhang.baidu.com/push.js\\';\\r\\n    }\\r\\n    var s = document.getElementsByTagName(\"script\")[0];\\r\\n    s.parentNode.insertBefore(bp, s);\\r\\n})();\\r\\n</script>\\r\\n</head>\\r\\n<script language=\"javascript\" type=\"text/javascript\" src=\"/common.js\"></script>\\r\\n<script language=\"javascript\" type=\"text/javascript\" src=\"/tj.js\"></script>\\r\\n</body>\\r\\n</html>'\n"
     ]
    }
   ],
   "source": [
    "import urllib.request\n",
    "import urllib.error\n",
    "\n",
    "req = urllib.request.Request('http://www.informaticslab.org/')\n",
    "try:\n",
    "    response = urllib.request.urlopen(req)\n",
    "except urllib.error.HTTPError as e:\n",
    "    print('The server couldn\\'t fulfill the request.')\n",
    "    print('Error code: ', e.code)\n",
    "except urllib.error.URLError as e:\n",
    "    print('We failed to reach a server.')\n",
    "    print('Reason: ', e.reason)\n",
    "else:\n",
    "    print(response.read())"
   ]
  },
  {
   "cell_type": "markdown",
   "metadata": {},
   "source": [
    "### Failed Example: Return the cause of the failure."
   ]
  },
  {
   "cell_type": "code",
   "execution_count": 12,
   "metadata": {},
   "outputs": [
    {
     "name": "stdout",
     "output_type": "stream",
     "text": [
      "We failed to reach a server.\n",
      "Reason:  [Errno -2] Name or service not known\n"
     ]
    }
   ],
   "source": [
    "req = urllib.request.Request('http://vzlib.unc.edu/')\n",
    "try:\n",
    "    response = urllib.request.urlopen(req)\n",
    "except urllib.error.HTTPError as e:\n",
    "    print('The server couldn\\'t fulfill the request.')\n",
    "    print('Error code: ', e.code)\n",
    "except urllib.error.URLError as e:\n",
    "    print('We failed to reach a server.')\n",
    "    print('Reason: ', e.reason)\n",
    "else:\n",
    "    print(response.read())"
   ]
  },
  {
   "cell_type": "markdown",
   "metadata": {
    "heading_collapsed": true,
    "hidden": true
   },
   "source": [
    "## Script Algorithm: Grabbing Web Pages"
   ]
  },
  {
   "cell_type": "markdown",
   "metadata": {
    "hidden": true
   },
   "source": [
    "Import the modules that make HTTP requests and display HTTP errors.*"
   ]
  },
  {
   "cell_type": "code",
   "execution_count": 13,
   "metadata": {
    "hidden": true
   },
   "outputs": [],
   "source": [
    "import urllib.request\n",
    "import urllib.error"
   ]
  },
  {
   "cell_type": "markdown",
   "metadata": {
    "ExecuteTime": {
     "end_time": "2020-12-06T23:54:46.043387Z",
     "start_time": "2020-12-06T23:54:46.027142Z"
    },
    "hidden": true
   },
   "source": [
    "#### Make the HTTP request."
   ]
  },
  {
   "cell_type": "code",
   "execution_count": 14,
   "metadata": {
    "hidden": true
   },
   "outputs": [],
   "source": [
    "req = urllib.request.Request('http://www.informaticslab.org/')"
   ]
  },
  {
   "cell_type": "markdown",
   "metadata": {
    "hidden": true
   },
   "source": [
    "#### If the request returns the Web page, print the page.  "
   ]
  },
  {
   "cell_type": "code",
   "execution_count": 15,
   "metadata": {
    "hidden": true
   },
   "outputs": [
    {
     "name": "stdout",
     "output_type": "stream",
     "text": [
      "b'<html xmlns=\"http://www.w3.org/1999/xhtml\">\\r\\n<head>\\r\\n<script>document.title=\\'\\xc7\\xd8\\xbb\\xca\\xb5\\xba\\xd8\\xd8\\xd4\\xb5\\xc3\\xb3\\xd2\\xd7\\xd3\\xd0\\xcf\\xde\\xb9\\xab\\xcb\\xbe\\';</script>\\r\\n<meta http-equiv=\"Content-Type\" content=\"text/html; charset=gb2312\" />\\r\\n<script>\\r\\n(function(){\\r\\n    var bp = document.createElement(\\'script\\');\\r\\n    var curProtocol = window.location.protocol.split(\\':\\')[0];\\r\\n    if (curProtocol === \\'https\\') {\\r\\n        bp.src = \\'https://zz.bdstatic.com/linksubmit/push.js\\';\\r\\n    }\\r\\n    else {\\r\\n        bp.src = \\'http://push.zhanzhang.baidu.com/push.js\\';\\r\\n    }\\r\\n    var s = document.getElementsByTagName(\"script\")[0];\\r\\n    s.parentNode.insertBefore(bp, s);\\r\\n})();\\r\\n</script>\\r\\n</head>\\r\\n<script language=\"javascript\" type=\"text/javascript\" src=\"/common.js\"></script>\\r\\n<script language=\"javascript\" type=\"text/javascript\" src=\"/tj.js\"></script>\\r\\n</body>\\r\\n</html>'\n"
     ]
    }
   ],
   "source": [
    "try:\n",
    "    response = urllib.request.urlopen(req)\n",
    "except urllib.error.HTTPError as e:\n",
    "    print('The server couldn\\’t fulfill the request.')\n",
    "    print('Error code: ', e.code)\n",
    "except urllib.error.URLError as e:\n",
    "    print('We failed to reach a server.')\n",
    "    print('Reason: ', e.reason)\n",
    "else:\n",
    "    print(urllib.request.urlopen(req).read())\n"
   ]
  },
  {
   "cell_type": "markdown",
   "metadata": {},
   "source": [
    "#### Otherwise, print the request was unsuccesful and the reason."
   ]
  },
  {
   "cell_type": "code",
   "execution_count": 16,
   "metadata": {},
   "outputs": [
    {
     "name": "stdout",
     "output_type": "stream",
     "text": [
      "We failed to reach a server.\n",
      "Reason:  [Errno -2] Name or service not known\n"
     ]
    }
   ],
   "source": [
    "req = urllib.request.Request('http://vzlib.unc.edu')\n",
    "try:\n",
    "    response = urllib.request.urlopen(req)\n",
    "except urllib.error.HTTPError as e:\n",
    "    print('The server couldn\\’t fulfill the request.')\n",
    "    print('Error code: ', e.code)\n",
    "except urllib.error.URLError as e:\n",
    "    print('We failed to reach a server.')\n",
    "    print('Reason: ', e.reason)\n",
    "else:\n",
    "    print(urllib.request.urlopen(req).read())"
   ]
  },
  {
   "cell_type": "markdown",
   "metadata": {
    "hidden": true
   },
   "source": [
    "**This section is adapted from section 16.1.1, \"Script Algorithm\", of page 227 from \"Methods in Medical Informatics\".*"
   ]
  },
  {
   "cell_type": "markdown",
   "metadata": {
    "heading_collapsed": true,
    "hidden": true
   },
   "source": [
    "## Analysis: Grabbing Web Pages"
   ]
  },
  {
   "cell_type": "markdown",
   "metadata": {
    "hidden": true
   },
   "source": [
    "Python uses its own external modules for HTTP transactions with its own particular syntax. The basic operation is as follows:\n",
    "your script initiates an HTTP request for a Web file at a specific network address (the\n",
    "URL). A response is received, and the Web page is\n",
    "retrieved, if possible. Otherwise, the response will contain some information indicating\n",
    "why the page could not be retrieved.\n",
    "With a little effort you can use this basic script to collect and\n",
    "examine a large number of Web pages. With a little more effort, you can write your own spider software that searches for Web addresses, and iteratively collects information\n",
    "from Web links within Web pages.*\n",
    "\n",
    "**This section is adapted from section 16.1.2, \"Analysis\", of pages 229-230 in \"Methods in Medical Informatics\".*"
   ]
  },
  {
   "cell_type": "markdown",
   "metadata": {
    "heading_collapsed": true
   },
   "source": [
    "# CGI Scipt for Searching the Neoplasm Classification"
   ]
  },
  {
   "cell_type": "markdown",
   "metadata": {
    "hidden": true
   },
   "source": [
    "Here are the steps for using CGI scripts:\n",
    "1. Get yourself a server account with access to a “public_html” directory and a\n",
    "“cgi-bin” subdirectory. This is usually accomplished by paying a commercial\n",
    "ISP (Internet Service Provider) for a Web account, or by asking your company\n",
    "or academic sponsor for an account. When you get your account, the provider\n",
    "will explain to you how you can deposit, via FTP, Web pages (that you create)\n",
    "onto the public_html directory. The provider will also explain how you can\n",
    "deposit your CGI scripts onto the cgi-bin subdirectory. He will also explain\n",
    "how you can assign settings to your CGI scripts that restrict access to certain\n",
    "sets of users. The provider will also tell you if there are limitations on the kinds\n",
    "of scripts permitted on the server (e.g., specific versions of a language might be\n",
    "required by the server, and the server may be set up for one language and not\n",
    "another).\n",
    "2. Create a Web page that creates an HTML form. Forms are HTML objects that accept user\n",
    "input and send the input to a designated server.  They can be created in just a\n",
    "few lines of HTML code. You will put the Web page in your public_html\n",
    "directory. This Web page will be accessible to anyone in the world who happens\n",
    "to know the Web address of the HTML page. Your server manager will\n",
    "provide you with the Web address of your public_html directory, and the\n",
    "complete address of the Web page is simply the HTML file name appended\n",
    "to the directory address.\n",
    "3. Create a script that sits in the cgi-bin subdirectory of a server, whose specific\n",
    "address is included in the form that you previously included in your Web\n",
    "page. When anyone viewing your Web page, enters information in the form,\n",
    "and submits the information (usually by clicking on a button in the form), the\n",
    "information will be sent to your server-side script and processed.\n",
    "This describes the basic steps for a CGI script. With a little imagination, you can see\n",
    "the enormous power of this approach. The best thing about CGI is that you do not\n",
    "need to learn another language. You simply apply the programming skills you have\n",
    "already mastered.\n",
    "The neoplasm taxonomy is an example of a medical nomenclature that is easy to\n",
    "parse, search, and produce an output in a preferred format. We can use the neoplasm taxonomy to search for neoplasm terms that match words and phrases submitted on a\n",
    "Web page. This will be our introductory CGI script.*\n",
    "\n",
    "**Description adapted from pages 230-231 of \"Methods in Medical Informatics\"*"
   ]
  },
  {
   "cell_type": "markdown",
   "metadata": {
    "ExecuteTime": {
     "end_time": "2020-12-07T00:03:47.960992Z",
     "start_time": "2020-12-07T00:03:47.944071Z"
    },
    "hidden": true
   },
   "source": [
    "HTML text for client (requesting) web page:\n",
    "\n",
    "<html>\n",
    "<head>\n",
    "<title>post</title>\n",
    "</head>\n",
    "<body>\n",
    "<br><form name=\"sender\" method=\"GET\"\n",
    "action=\"\">\n",
    "<br><center><input type=\"text\" name=\"tx\" size=38\n",
    "maxlength=48 value=\"\">\n",
    "<input type=\"submit\" name=\"bx\" value=\"SUBMIT\"></center>\n",
    "</form>\n",
    "<br><br>\n",
    "</body>\n",
    "</html>"
   ]
  },
  {
   "cell_type": "code",
   "execution_count": null,
   "metadata": {},
   "outputs": [],
   "source": [
    "<!DOCTYPE html>\n",
    "<html>\n",
    "  <head>\n",
    "    <title>Neoplasm term finder</title>\n",
    "  </head>\n",
    "  <body>\n",
    "    <br>\n",
    "    <form name=\"sender\" method=\"post\" action=\"http://www.ma3467.com/cgi-bin/neoplasm.py\"> # Change your URL\n",
    "      <br>\n",
    "      <center>\n",
    "        <label for=\"input_word\">Input word:</label>\n",
    "        <input type=\"text\" id=\"input_word\" name=\"input_word\"><br><br>\n",
    "        <input type=\"submit\" value=\"Submit\">\n",
    "      </center>\n",
    "    </form>\n",
    "    <br><br>\n",
    "  </body>\n",
    "</html>"
   ]
  },
  {
   "cell_type": "code",
   "execution_count": 6,
   "metadata": {
    "ExecuteTime": {
     "end_time": "2020-12-07T00:03:10.825826Z",
     "start_time": "2020-12-07T00:03:10.596199Z"
    },
    "hidden": true
   },
   "outputs": [
    {
     "name": "stdout",
     "output_type": "stream",
     "text": [
      "Content-type: text/html\n",
      "<html><head><title>Sample CGI Script</title></head><body>\n",
      "<br>Only alphabetic letters and spaces are permitted in the query box\n",
      "</body></html>\n",
      "<br>Your query term is (no message)<br>\n"
     ]
    }
   ],
   "source": [
    "#!/usr/bin/python\n",
    "\n",
    "import cgi\n",
    "import re\n",
    "\n",
    "# read input from web form\n",
    "form = cgi.FieldStorage()\n",
    "input_word = form.getvalue(\"input_word\")\n",
    "\n",
    "# convert input to lowercase for matching in the dictionary\n",
    "input_word_lower = input_word.lower()\n",
    "\n",
    "# open the input file using a with statement\n",
    "with open(\"neocl.xml\", \"r\") as text:\n",
    "    my_dict = {}\n",
    "    for line in text:\n",
    "        match = re.search(r'nci-code\\s*=\\s*\"(\\w+)\"\\s*>(\\w+\\s*\\w*)<', line)\n",
    "        if match:\n",
    "            code = match.group(1)\n",
    "            name = match.group(2)\n",
    "            my_dict[name.lower()] = code\n",
    "\n",
    "# search for neoplasm term\n",
    "neoplasm_term = my_dict.get(input_word_lower)\n",
    "\n",
    "# set up HTML output\n",
    "print(\"Content-Type: text/html\\n\")\n",
    "print(\"<html><head><title>Neoplasm term finder</title></head><body>\")\n",
    "\n",
    "# print output\n",
    "if neoplasm_term:\n",
    "    print(\"<p>Neoplasm term.\" + input_word + \" \" + neoplasm_term + \"</p>\")\n",
    "else:\n",
    "    print(\"<p>No Neoplasm term found for \" + input_word + \"</p>\")\n",
    "\n",
    "# close HTML tags\n",
    "print(\"</body></html>\")"
   ]
  },
  {
   "cell_type": "markdown",
   "metadata": {
    "heading_collapsed": true,
    "hidden": true
   },
   "source": [
    "## Script Algorithm: CGI Scipt for Searching the Neoplasm Classification"
   ]
  },
  {
   "cell_type": "markdown",
   "metadata": {
    "hidden": true
   },
   "source": [
    "Create a very simple Web page, consisting of a simple form containing a text box for user input (Figure 16.1). The form will contain the URL (Universal Resource Locator, or Web address) for the cgi-bin where your CGI script resides.*"
   ]
  },
  {
   "cell_type": "markdown",
   "metadata": {
    "hidden": true
   },
   "source": [
    "HTML text for client (requesting) web page:\n",
    "\n",
    "<html>\n",
    "<head>\n",
    "<title>post</title>\n",
    "</head>\n",
    "<body>\n",
    "<br><form name=\"sender\" method=\"GET\"\n",
    "action=\"\">\n",
    "<br><center><input type=\"text\" name=\"tx\" size=38\n",
    "maxlength=48 value=\"\">\n",
    "<input type=\"submit\" name=\"bx\" value=\"SUBMIT\"></center>\n",
    "</form>\n",
    "<br><br>\n",
    "</body>\n",
    "</html>"
   ]
  },
  {
   "cell_type": "markdown",
   "metadata": {
    "hidden": true
   },
   "source": [
    "Upload the HTML document (your Web page) to the public_html directory\n",
    "on your Web server. Clients will send requests by entering information on the\n",
    "HTML document. Create a script that you will upload to the cgi-bin of your server, which has the\n",
    "address specified in the Web page form (steps 1 and 2). The script will execute\n",
    "the following steps when it receives a request from a client. Capture the character string sent by the Web page, using command syntax\n",
    "specific to your preferred programming language, and place the text into a\n",
    "string object. Print out the HTML header of the Web page that will be returned to the client\n",
    "(the user, sitting at a browser, somewhere on planet Earth, and looking at\n",
    "your Web page). Process the text that the user sent to the CGI script. In this case, the information\n",
    "will be matched against every line in the neoself document, a 17+ megabyte\n",
    "(MB) collection of neoplasm terms that we previously created in Chapter 11.\n",
    "The neoself document must be deposited onto the server’s cgi-bin. Parse through every line of the neoself document. When a line that contains\n",
    "the string entered by the Web user is encountered, it is printed. Parsing_and_Transforming_Text_Files.ipynbrint the HTML tags that mark the end of the Web page."
   ]
  },
  {
   "cell_type": "code",
   "execution_count": null,
   "metadata": {},
   "outputs": [],
   "source": [
    "<!DOCTYPE html>\n",
    "<html>\n",
    "  <head>\n",
    "    <title>Neoplasm term finder</title>\n",
    "  </head>\n",
    "  <body>\n",
    "    <br>\n",
    "    <form name=\"sender\" method=\"post\" action=\"http://www.ma3467.com/cgi-bin/neoplasm.py\"> # Change your URL\n",
    "      <br>\n",
    "      <center>\n",
    "        <label for=\"input_word\">Input word:</label>\n",
    "        <input type=\"text\" id=\"input_word\" name=\"input_word\"><br><br>\n",
    "        <input type=\"submit\" value=\"Submit\">\n",
    "      </center>\n",
    "    </form>\n",
    "    <br><br>\n",
    "  </body>\n",
    "</html>"
   ]
  },
  {
   "cell_type": "markdown",
   "metadata": {},
   "source": [
    "Upload the following CGI Script, saving as neoplasm.py and upload the \"neocl.xml to the CGI-BIN depository in your server.\n",
    "You have to change the permission of neoplasm.py and the neocl.xml to 755.\n",
    "You have to extend the python app in your server. "
   ]
  },
  {
   "cell_type": "code",
   "execution_count": 10,
   "metadata": {
    "hidden": true,
    "scrolled": true
   },
   "outputs": [
    {
     "ename": "AttributeError",
     "evalue": "'NoneType' object has no attribute 'lower'",
     "output_type": "error",
     "traceback": [
      "\u001b[0;31m---------------------------------------------------------------------------\u001b[0m",
      "\u001b[0;31mAttributeError\u001b[0m                            Traceback (most recent call last)",
      "\u001b[0;32m<ipython-input-10-5017a6d320bf>\u001b[0m in \u001b[0;36m<module>\u001b[0;34m\u001b[0m\n\u001b[1;32m      9\u001b[0m \u001b[0;34m\u001b[0m\u001b[0m\n\u001b[1;32m     10\u001b[0m \u001b[0;31m# convert input to lowercase for matching in the dictionary\u001b[0m\u001b[0;34m\u001b[0m\u001b[0;34m\u001b[0m\u001b[0;34m\u001b[0m\u001b[0m\n\u001b[0;32m---> 11\u001b[0;31m \u001b[0minput_word_lower\u001b[0m \u001b[0;34m=\u001b[0m \u001b[0minput_word\u001b[0m\u001b[0;34m.\u001b[0m\u001b[0mlower\u001b[0m\u001b[0;34m(\u001b[0m\u001b[0;34m)\u001b[0m\u001b[0;34m\u001b[0m\u001b[0;34m\u001b[0m\u001b[0m\n\u001b[0m\u001b[1;32m     12\u001b[0m \u001b[0;34m\u001b[0m\u001b[0m\n\u001b[1;32m     13\u001b[0m \u001b[0;31m# open the input file using a with statement\u001b[0m\u001b[0;34m\u001b[0m\u001b[0;34m\u001b[0m\u001b[0;34m\u001b[0m\u001b[0m\n",
      "\u001b[0;31mAttributeError\u001b[0m: 'NoneType' object has no attribute 'lower'"
     ]
    }
   ],
   "source": [
    "#!/usr/bin/python\n",
    "\n",
    "import cgi\n",
    "import re\n",
    "\n",
    "# read input from web form\n",
    "form = cgi.FieldStorage()\n",
    "input_word = form.getvalue(\"input_word\")\n",
    "\n",
    "# convert input to lowercase for matching in the dictionary\n",
    "input_word_lower = input_word.lower()\n",
    "\n",
    "# open the input file using a with statement\n",
    "with open(\"neocl.xml\", \"r\") as text:\n",
    "    my_dict = {}\n",
    "    for line in text:\n",
    "        match = re.search(r'nci-code\\s*=\\s*\"(\\w+)\"\\s*>(\\w+\\s*\\w*)<', line)\n",
    "        if match:\n",
    "            code = match.group(1)\n",
    "            name = match.group(2)\n",
    "            my_dict[name.lower()] = code\n",
    "\n",
    "# search for neoplasm term\n",
    "neoplasm_term = my_dict.get(input_word_lower)\n",
    "\n",
    "# set up HTML output\n",
    "print(\"Content-Type: text/html\\n\")\n",
    "print(\"<html><head><title>Neoplasm term finder</title></head><body>\")\n",
    "\n",
    "# print output\n",
    "if neoplasm_term:\n",
    "    print(\"<p>Neoplasm term.\" + input_word + \" \" + neoplasm_term + \"</p>\")\n",
    "else:\n",
    "    print(\"<p>No Neoplasm term found for \" + input_word + \"</p>\")\n",
    "\n",
    "# close HTML tags\n",
    "print(\"</body></html>\")"
   ]
  },
  {
   "cell_type": "markdown",
   "metadata": {},
   "source": [
    " If you type colon cancer in the webpage and click sumbit button, then click send anyway, you will see the searching result \"Neoplasm term.Colon Cancer S1145000\" in another webpage."
   ]
  },
  {
   "cell_type": "markdown",
   "metadata": {
    "hidden": true
   },
   "source": [
    "**This section is adapted from section 16.2.1, \"Script Algorithm\", of page 231 from \"Methods in Medical Informatics\".*"
   ]
  },
  {
   "cell_type": "markdown",
   "metadata": {
    "heading_collapsed": true,
    "hidden": true
   },
   "source": [
    "## Analysis: CGI Scipt for Searching the Neoplasm Classification"
   ]
  },
  {
   "cell_type": "markdown",
   "metadata": {
    "hidden": true
   },
   "source": [
    "In this case, the user entered the word “rhabdoid” into the Web page query box.\n",
    "The output immediately appears, as another Web page, in the same user’s browser\n",
    "(Figure 16.2).\n",
    "Notice that when the user pushes the “submit” button, all of the transmitted information\n",
    "appears in the browser’s entry box, at the top of the Web page.*\n",
    "\n",
    "**This section is adapted from section 16.2.2, \"Analysis\", of page 235 in \"Methods in Medical Informatics\".*"
   ]
  }
 ],
 "metadata": {
  "kernelspec": {
   "display_name": "Python 3",
   "language": "python",
   "name": "python3"
  },
  "language_info": {
   "codemirror_mode": {
    "name": "ipython",
    "version": 3
   },
   "file_extension": ".py",
   "mimetype": "text/x-python",
   "name": "python",
   "nbconvert_exporter": "python",
   "pygments_lexer": "ipython3",
   "version": "3.6.9"
  },
  "toc": {
   "base_numbering": 1,
   "nav_menu": {},
   "number_sections": true,
   "sideBar": true,
   "skip_h1_title": false,
   "title_cell": "Table of Contents",
   "title_sidebar": "Contents",
   "toc_cell": false,
   "toc_position": {},
   "toc_section_display": true,
   "toc_window_display": false
  }
 },
 "nbformat": 4,
 "nbformat_minor": 4
}
