{
 "cells": [
  {
   "cell_type": "markdown",
   "metadata": {},
   "source": [
    "<a href=\"https://datamine.unc.edu/home/methods_in_medical_informatics_yuchenh/\" ><h1>Back to Notebook List</h3></a>\n",
    "<br/>"
   ]
  },
  {
   "cell_type": "markdown",
   "metadata": {},
   "source": [
    "Welcome to chapter fourteen of Methods in Medical Informatics! In this section, we will be exploring autocoding. Often in biomedical informatics, it is necessary to extract medical terms from text and attach a nomenclature concept code to the extracted term. A software product that computationally parses and codes medical text is called an autocoder or an automatic coder. By coding, concepts of interest contained in text can be retrieved regardless of the choice of words used to describe them. Lets begin!\n",
    "\n",
    "> Disclaimer: The content below is adapted from the book \"Methods in Medical Informatics - Fundamental of Healthcare Programming in Perl, Python, and Ruby\" by Jules J. Berman. All content is for testing, education, and teaching purposes only. No content will be openly released to the internet. "
   ]
  },
  {
   "cell_type": "markdown",
   "metadata": {
    "heading_collapsed": true
   },
   "source": [
    "# 14.1 Neoplasm Autocoder"
   ]
  },
  {
   "cell_type": "markdown",
   "metadata": {
    "hidden": true
   },
   "source": [
    "The script below will parse a large collection of journal articles. The autocoder will then identify neoplasm codes from the Classification of Neoplasms XML file, \"NEOCL.XML\" and automatically code any appropriate terminologies from the article titles.*\n",
    "\n",
    "> This script will utilize the file [neocl.xml](./K11946_Files/NEOCL.XML). neocl.xml is the Neoplasm Classification formated as an XML document. Additional information [here](https://datamine.unc.edu/datafiles_yuchenh/)\n",
    "\n",
    "**Description adapted from pages 209-210 of \"Methods in Medical Informatics\"*"
   ]
  },
  {
   "cell_type": "code",
   "execution_count": null,
   "metadata": {
    "ExecuteTime": {
     "end_time": "2020-12-06T23:08:10.915194Z",
     "start_time": "2020-12-06T23:08:01.255625Z"
    },
    "hidden": true
   },
   "outputs": [],
   "source": [
    "import re\n",
    "text = open(\"./K11946_Files/NEOCL.XML\", \"r\")\n",
    "literalhash = {}\n",
    "codematch = re.compile('(C\\d{7})')\n",
    "phrasematch = re.compile('(?<=\\>)(.+)(?=\\<)')\n",
    "for line in text:\n",
    "    m= codematch.search(line)\n",
    "    if m:\n",
    "        code = m.group()\n",
    "    else:\n",
    "        continue\n",
    "    x = phrasematch.search(line)\n",
    "    if x:\n",
    "        phrase = x.group()\n",
    "    else:\n",
    "        continue\n",
    "    literalhash[phrase] = code\n",
    "text.close()\n",
    "print(\"Neoplasm code hash has been created. Autocoding will start now\")\n",
    "absfile = open(\"./K11946_Files/tumorabs.txt\", \"r\")\n",
    "outfile = open(\"tumorpy.out\", \"w\")\n",
    "singular = re.compile('omas')\n",
    "england = re.compile('tumo[u]?rs')\n",
    "for line in absfile:\n",
    "    sentence = line\n",
    "    sentence = singular.sub(\"oma\",sentence)\n",
    "    sentence = england.sub(\"tumor\",sentence)\n",
    "    sentence = sentence.rstrip()\n",
    "    print(\"\\nAbstract title...\" + sentence + \".\")\n",
    "    sentence_array = sentence.split(\" \")\n",
    "    length = len(sentence_array)\n",
    "    for i in range(length):\n",
    "        for place_length in range(len(sentence_array)):\n",
    "            last_element = place_length + 1\n",
    "            phrase = ' '.join(sentence_array[0:last_element])\n",
    "            if phrase in literalhash:\n",
    "                print(\"Neoplasm term...\" + phrase + \" \" + literalhash[phrase])\n",
    "    sentence_array.pop(0)"
   ]
  },
  {
   "cell_type": "markdown",
   "metadata": {
    "heading_collapsed": true,
    "hidden": true
   },
   "source": [
    "## Script Algoriothm: Neoplasm Autocoder"
   ]
  },
  {
   "cell_type": "markdown",
   "metadata": {
    "hidden": true
   },
   "source": [
    "Open the nomenclature file, which will be the source of coded terms to match\n",
    "against the text that needs to be autocoded. For this example, we will use the\n",
    "neoplasm taxonomy, but it could be any nomenclature that consists of codes\n",
    "listed with their corresponding medical terms.*"
   ]
  },
  {
   "cell_type": "code",
   "execution_count": null,
   "metadata": {
    "hidden": true
   },
   "outputs": [],
   "source": [
    "import re\n",
    "text = open(\"./K11946_Files/NEOCL.XML\", \"r\")"
   ]
  },
  {
   "cell_type": "markdown",
   "metadata": {
    "hidden": true
   },
   "source": [
    "Create a dictionary object with keys corresponding to the terms (names of\n",
    "neoplasms, in this case) of the medical nomenclature and values comprising\n",
    "the corresponding codes for the terms."
   ]
  },
  {
   "cell_type": "code",
   "execution_count": null,
   "metadata": {
    "hidden": true
   },
   "outputs": [],
   "source": [
    "literalhash = {}\n",
    "codematch = re.compile('(C\\d{7})')\n",
    "phrasematch = re.compile('(?<=\\>)(.+)(?=\\<)')\n",
    "for line in text:\n",
    "    m= codematch.search(line)\n",
    "    if m:\n",
    "        code = m.group()\n",
    "    else:\n",
    "        continue\n",
    "    x = phrasematch.search(line)\n",
    "    if x:\n",
    "        phrase = x.group()\n",
    "    else:\n",
    "        continue\n",
    "    literalhash[phrase] = code\n",
    "text.close()\n",
    "print(\"Neoplasm code hash has been created. Autocoding will start now\")"
   ]
  },
  {
   "cell_type": "markdown",
   "metadata": {
    "hidden": true
   },
   "source": [
    "Open the file to be parsed (tumorabs.txt). Parse through the file, line by line, each line containing a sentence. As each sentence is parsed, break the file into every possible ordered subsequence\n",
    "of words (a phrase array). For example, “Everybody loves to eat pizza”\n",
    "would be broken into an array containing the following items:\n",
    "Everybody loves to eat pizza\n",
    "Everybody loves to eat\n",
    "Everybody loves\n",
    "Everybody\n",
    "loves to eat pizza\n",
    "loves to eat\n",
    "loves to\n",
    "loves\n",
    "to eat pizza\n",
    "to eat\n",
    "to\n",
    "eat pizza\n",
    "eat\n",
    "pizza\n",
    "For each item in the phrase array, determine whether the item matches a term\n",
    "in the neoplasm dictionary object. If there is a match, print the phrase and the corresponding code to an external\n",
    "file. The external file will consist of the lines from the text, followed by the phrases from the lines that are neoplasm terms, along with their nomenclature codes."
   ]
  },
  {
   "cell_type": "code",
   "execution_count": null,
   "metadata": {
    "hidden": true
   },
   "outputs": [],
   "source": [
    "absfile = open(\"./K11946_Files/tumorabs.txt\", \"r\")\n",
    "outfile = open(\"tumorpy.out\", \"w\")\n",
    "singular = re.compile('omas')\n",
    "england = re.compile('tumo[u]?rs')\n",
    "for line in absfile:\n",
    "    sentence = line\n",
    "    sentence = singular.sub(\"oma\",sentence)\n",
    "    sentence = england.sub(\"tumor\",sentence)\n",
    "    sentence = sentence.rstrip()\n",
    "    print(\"\\nAbstract title...\" + sentence + \".\")\n",
    "    sentence_array = sentence.split(\" \")\n",
    "    length = len(sentence_array)\n",
    "    for i in range(length):\n",
    "        for place_length in range(len(sentence_array)):\n",
    "            last_element = place_length + 1\n",
    "            phrase = ' '.join(sentence_array[0:last_element])\n",
    "            if phrase in literalhash:\n",
    "                print(\"Neoplasm term...\" + phrase + \" \" + literalhash[phrase])\n",
    "    sentence_array.pop(0)"
   ]
  },
  {
   "cell_type": "markdown",
   "metadata": {
    "hidden": true
   },
   "source": [
    "**This section is adapted from section 14.1.1, \"Script Algorithm\", of pages 210-212 from \"Methods in Medical Informatics\".*"
   ]
  },
  {
   "cell_type": "markdown",
   "metadata": {
    "heading_collapsed": true,
    "hidden": true
   },
   "source": [
    "## Analysis: Neoplasm Autocoder"
   ]
  },
  {
   "cell_type": "markdown",
   "metadata": {
    "hidden": true
   },
   "source": [
    "Each abstract line parsed from the tumorabs.txt file is printed and then followed by the list of autocoded terms extracted from the title.\n",
    "Note that the terms coded “C0000000” are general neoplasm terms such as “tumor” or “cancer” and not specific names of neoplasms, or they are names of neoplasms that have not yet been classified within the neoplasm taxonomy. Also, the program codes each occurrence of a neoplasm term, even if it is repeated.*\n",
    "\n",
    "**This section is adapted from section 14.1.2, \"Analysis\", of pages 215-216 in \"Methods in Medical Informatics\".*"
   ]
  },
  {
   "cell_type": "markdown",
   "metadata": {
    "heading_collapsed": true
   },
   "source": [
    "# Recoding"
   ]
  },
  {
   "cell_type": "markdown",
   "metadata": {
    "hidden": true
   },
   "source": [
    "The medical informatics literature has lots of descriptions of medical autocoders, but most of these descriptions fail to include their speed. The autocoder included here is fast, coding 20,000 citations in about 20 second or less on a 2.5 GHz desktop CPU with 512 megabytes of RAM. By the time you read this, most readers will have computers that operate much\n",
    "faster.\n",
    "Why is it important to have a fast autocoder? \n",
    "\n",
    "There are three reasons why:*\n",
    "1. Medical files today are large. It is not unusual for a large medical center to\n",
    "generate a terabyte of data each week. A slow autocoder could never keep up\n",
    "with the volume of medical information that is produced each day.\n",
    "2. Autocoders, and the nomenclatures they draw terms from, need to be modified\n",
    "to accommodate unexpected oddities in the text that they parse . The cycles of running a program, reviewing output, making\n",
    "modifications in software or nomenclatures, and repeating the whole process\n",
    "many times cannot be undertaken if you need to wait a week for your autocoding\n",
    "software to parse your text.\n",
    "3. Autocoding is as much about recoding as it is about the initial process of providing\n",
    "nomenclature codes.\n",
    "You need to recode (supply a new set of nomenclature codes for terms in your medical\n",
    "text) whenever you want to change from one nomenclature to another.\n",
    "You need to recode whenever you introduce a new version of a nomenclature.\n",
    "You need to recode whenever you want to use a new coding algorithm (e.g., parsimonious\n",
    "coding versus comprehensive, or linking code to a particular extracted portion\n",
    "of report).\n",
    "You need to recode whenever you add legacy data to your laboratory information\n",
    "systems.\n",
    "You need to recode whenever you merge different medical data sets (especially,\n",
    "medical data sets that have been coded with different medical nomenclatures).\n",
    "All of this recoding adds to the data burden placed on a medical autocoder.\n",
    "\n",
    "Computational tasks that take much time\n",
    "(more than a few seconds) are often put on the back burner. Smart informaticians\n",
    "understand that program execution speed is always very important.\n",
    "\n",
    "**Description adapted from pages 216-217 of \"Methods in Medical Informatics\"*"
   ]
  }
 ],
 "metadata": {
  "kernelspec": {
   "display_name": "Python 3 (ipykernel)",
   "language": "python",
   "name": "python3"
  },
  "language_info": {
   "codemirror_mode": {
    "name": "ipython",
    "version": 3
   },
   "file_extension": ".py",
   "mimetype": "text/x-python",
   "name": "python",
   "nbconvert_exporter": "python",
   "pygments_lexer": "ipython3",
   "version": "3.8.10"
  },
  "toc": {
   "base_numbering": 1,
   "nav_menu": {},
   "number_sections": true,
   "sideBar": true,
   "skip_h1_title": false,
   "title_cell": "Table of Contents",
   "title_sidebar": "Contents",
   "toc_cell": false,
   "toc_position": {},
   "toc_section_display": true,
   "toc_window_display": false
  }
 },
 "nbformat": 4,
 "nbformat_minor": 4
}
